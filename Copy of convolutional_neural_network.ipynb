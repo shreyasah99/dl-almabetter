{
 "cells": [
  {
   "cell_type": "markdown",
   "metadata": {
    "id": "3DR-eO17geWu"
   },
   "source": [
    "# Convolutional Neural Network"
   ]
  },
  {
   "cell_type": "markdown",
   "metadata": {
    "id": "EMefrVPCg-60"
   },
   "source": [
    "### Importing the libraries"
   ]
  },
  {
   "cell_type": "code",
   "execution_count": 3,
   "metadata": {
    "id": "sCV30xyVhFbE"
   },
   "outputs": [],
   "source": [
    "import tensorflow as tf\n",
    "from keras.preprocessing.image import ImageDataGenerator"
   ]
  },
  {
   "cell_type": "code",
   "execution_count": 4,
   "metadata": {
    "id": "FIleuCAjoFD8"
   },
   "outputs": [
    {
     "data": {
      "text/plain": [
       "'2.3.0'"
      ]
     },
     "execution_count": 4,
     "metadata": {},
     "output_type": "execute_result"
    }
   ],
   "source": [
    "tf.__version__"
   ]
  },
  {
   "cell_type": "code",
   "execution_count": 8,
   "metadata": {},
   "outputs": [],
   "source": [
    "import seaborn as sns"
   ]
  },
  {
   "cell_type": "markdown",
   "metadata": {
    "id": "oxQxCBWyoGPE"
   },
   "source": [
    "## Part 1 - Data Preprocessing"
   ]
  },
  {
   "cell_type": "markdown",
   "metadata": {
    "id": "MvE-heJNo3GG"
   },
   "source": [
    "### Preprocessing the Training set"
   ]
  },
  {
   "cell_type": "code",
   "execution_count": 27,
   "metadata": {
    "id": "0koUcJMJpEBD"
   },
   "outputs": [
    {
     "name": "stdout",
     "output_type": "stream",
     "text": [
      "Found 28709 images belonging to 7 classes.\n"
     ]
    }
   ],
   "source": [
    "train_datagen = ImageDataGenerator(rescale = 1./255,\n",
    "                                   shear_range = 0.2,\n",
    "                                   zoom_range = 0.2,\n",
    "                                   horizontal_flip = True)\n",
    "training_set = train_datagen.flow_from_directory('dataset/training_set',\n",
    "                                                 target_size = (48, 48),\n",
    "                                                 batch_size = 32,\n",
    "                                                 class_mode = 'categorical')"
   ]
  },
  {
   "cell_type": "markdown",
   "metadata": {
    "id": "mrCMmGw9pHys"
   },
   "source": [
    "### Preprocessing the Test set"
   ]
  },
  {
   "cell_type": "code",
   "execution_count": 28,
   "metadata": {
    "id": "SH4WzfOhpKc3"
   },
   "outputs": [
    {
     "name": "stdout",
     "output_type": "stream",
     "text": [
      "Found 7178 images belonging to 7 classes.\n"
     ]
    }
   ],
   "source": [
    "test_datagen = ImageDataGenerator(rescale = 1./255)\n",
    "test_set = test_datagen.flow_from_directory('dataset/test_set',\n",
    "                                            target_size = (48, 48),\n",
    "                                            batch_size = 32,\n",
    "                                            class_mode = 'categorical')"
   ]
  },
  {
   "cell_type": "markdown",
   "metadata": {
    "id": "af8O4l90gk7B"
   },
   "source": [
    "## Part 2 - Building the CNN"
   ]
  },
  {
   "cell_type": "markdown",
   "metadata": {
    "id": "ces1gXY2lmoX"
   },
   "source": [
    "### Initialising the CNN"
   ]
  },
  {
   "cell_type": "code",
   "execution_count": 29,
   "metadata": {
    "id": "SAUt4UMPlhLS"
   },
   "outputs": [],
   "source": [
    "cnn = tf.keras.models.Sequential()"
   ]
  },
  {
   "cell_type": "markdown",
   "metadata": {
    "id": "u5YJj_XMl5LF"
   },
   "source": [
    "### Step 1 - Convolution"
   ]
  },
  {
   "cell_type": "code",
   "execution_count": 30,
   "metadata": {
    "id": "XPzPrMckl-hV"
   },
   "outputs": [],
   "source": [
    "cnn.add(tf.keras.layers.Conv2D(filters=32, kernel_size=3, activation='relu', input_shape=[48,48,3]))"
   ]
  },
  {
   "cell_type": "markdown",
   "metadata": {
    "id": "tf87FpvxmNOJ"
   },
   "source": [
    "### Step 2 - Pooling"
   ]
  },
  {
   "cell_type": "code",
   "execution_count": 31,
   "metadata": {
    "id": "ncpqPl69mOac"
   },
   "outputs": [],
   "source": [
    "cnn.add(tf.keras.layers.MaxPool2D(pool_size=2, strides=2))"
   ]
  },
  {
   "cell_type": "markdown",
   "metadata": {
    "id": "xaTOgD8rm4mU"
   },
   "source": [
    "### Adding a second convolutional layer"
   ]
  },
  {
   "cell_type": "code",
   "execution_count": 32,
   "metadata": {
    "id": "i_-FZjn_m8gk"
   },
   "outputs": [],
   "source": [
    "cnn.add(tf.keras.layers.Conv2D(filters=32, kernel_size=3, activation='relu'))\n",
    "cnn.add(tf.keras.layers.MaxPool2D(pool_size=2, strides=2))"
   ]
  },
  {
   "cell_type": "code",
   "execution_count": 33,
   "metadata": {},
   "outputs": [],
   "source": [
    "cnn.add(tf.keras.layers.Conv2D(filters=32, kernel_size=3, activation='relu'))\n",
    "cnn.add(tf.keras.layers.MaxPool2D(pool_size=2, strides=2))\n",
    "\n"
   ]
  },
  {
   "cell_type": "markdown",
   "metadata": {
    "id": "tmiEuvTunKfk"
   },
   "source": [
    "### Step 3 - Flattening"
   ]
  },
  {
   "cell_type": "code",
   "execution_count": 34,
   "metadata": {
    "id": "6AZeOGCvnNZn"
   },
   "outputs": [],
   "source": [
    "cnn.add(tf.keras.layers.Flatten())"
   ]
  },
  {
   "cell_type": "markdown",
   "metadata": {
    "id": "dAoSECOm203v"
   },
   "source": [
    "### Step 4 - Full Connection"
   ]
  },
  {
   "cell_type": "code",
   "execution_count": 35,
   "metadata": {
    "id": "8GtmUlLd26Nq"
   },
   "outputs": [],
   "source": [
    "cnn.add(tf.keras.layers.Dense(units=128, activation='relu'))"
   ]
  },
  {
   "cell_type": "markdown",
   "metadata": {
    "id": "yTldFvbX28Na"
   },
   "source": [
    "### Step 5 - Output Layer"
   ]
  },
  {
   "cell_type": "code",
   "execution_count": 36,
   "metadata": {
    "id": "1p_Zj1Mc3Ko_"
   },
   "outputs": [],
   "source": [
    "cnn.add(tf.keras.layers.Dense(units=7, activation='softmax'))"
   ]
  },
  {
   "cell_type": "markdown",
   "metadata": {
    "id": "D6XkI90snSDl"
   },
   "source": [
    "## Part 3 - Training the CNN"
   ]
  },
  {
   "cell_type": "markdown",
   "metadata": {
    "id": "vfrFQACEnc6i"
   },
   "source": [
    "### Compiling the CNN"
   ]
  },
  {
   "cell_type": "code",
   "execution_count": 37,
   "metadata": {
    "id": "NALksrNQpUlJ"
   },
   "outputs": [],
   "source": [
    "cnn.compile(optimizer = 'adam', loss = 'categorical_crossentropy', metrics = ['accuracy'])"
   ]
  },
  {
   "cell_type": "markdown",
   "metadata": {
    "id": "ehS-v3MIpX2h"
   },
   "source": [
    "### Training the CNN on the Training set and evaluating it on the Test set"
   ]
  },
  {
   "cell_type": "code",
   "execution_count": 38,
   "metadata": {
    "id": "XUj1W4PJptta"
   },
   "outputs": [
    {
     "name": "stdout",
     "output_type": "stream",
     "text": [
      "Epoch 1/25\n",
      "225/225 [==============================] - 4s 20ms/step - loss: 1.5412 - acc: 0.4019\n",
      "898/898 [==============================] - 69s 77ms/step - loss: 1.6940 - acc: 0.3214 - val_loss: 1.5412 - val_acc: 0.4019\n",
      "Epoch 2/25\n",
      "225/225 [==============================] - 4s 19ms/step - loss: 1.4098 - acc: 0.4563\n",
      "898/898 [==============================] - 68s 76ms/step - loss: 1.5038 - acc: 0.4194 - val_loss: 1.4098 - val_acc: 0.4563\n",
      "Epoch 3/25\n",
      "225/225 [==============================] - 4s 19ms/step - loss: 1.3437 - acc: 0.4847\n",
      "898/898 [==============================] - 62s 69ms/step - loss: 1.4207 - acc: 0.4531 - val_loss: 1.3437 - val_acc: 0.4847\n",
      "Epoch 4/25\n",
      "225/225 [==============================] - 8s 35ms/step - loss: 1.3257 - acc: 0.4890: 1s - loss: 1\n",
      "898/898 [==============================] - 72s 80ms/step - loss: 1.3634 - acc: 0.4779 - val_loss: 1.3257 - val_acc: 0.4890\n",
      "Epoch 5/25\n",
      "225/225 [==============================] - 5s 23ms/step - loss: 1.2851 - acc: 0.5054\n",
      "898/898 [==============================] - 76s 85ms/step - loss: 1.3183 - acc: 0.4941 - val_loss: 1.2851 - val_acc: 0.5054\n",
      "Epoch 6/25\n",
      "225/225 [==============================] - 6s 25ms/step - loss: 1.2614 - acc: 0.5127\n",
      "898/898 [==============================] - 73s 82ms/step - loss: 1.2850 - acc: 0.5095 - val_loss: 1.2614 - val_acc: 0.5127\n",
      "Epoch 7/25\n",
      "225/225 [==============================] - 5s 21ms/step - loss: 1.2376 - acc: 0.5283\n",
      "898/898 [==============================] - 71s 79ms/step - loss: 1.2548 - acc: 0.5193 - val_loss: 1.2376 - val_acc: 0.5283\n",
      "Epoch 8/25\n",
      "225/225 [==============================] - 5s 24ms/step - loss: 1.2197 - acc: 0.5306\n",
      "898/898 [==============================] - 69s 77ms/step - loss: 1.2390 - acc: 0.5274 - val_loss: 1.2197 - val_acc: 0.5306\n",
      "Epoch 9/25\n",
      "225/225 [==============================] - 5s 21ms/step - loss: 1.2201 - acc: 0.5329\n",
      "898/898 [==============================] - 68s 75ms/step - loss: 1.2191 - acc: 0.5349 - val_loss: 1.2201 - val_acc: 0.5329\n",
      "Epoch 10/25\n",
      "225/225 [==============================] - 5s 21ms/step - loss: 1.1827 - acc: 0.5496\n",
      "898/898 [==============================] - 73s 81ms/step - loss: 1.2051 - acc: 0.5406 - val_loss: 1.1827 - val_acc: 0.5496\n",
      "Epoch 11/25\n",
      "225/225 [==============================] - 5s 21ms/step - loss: 1.2089 - acc: 0.5426\n",
      "898/898 [==============================] - 70s 78ms/step - loss: 1.1864 - acc: 0.5497 - val_loss: 1.2089 - val_acc: 0.5426\n",
      "Epoch 12/25\n",
      "225/225 [==============================] - 5s 21ms/step - loss: 1.1937 - acc: 0.5414\n",
      "898/898 [==============================] - 68s 76ms/step - loss: 1.1786 - acc: 0.5497 - val_loss: 1.1937 - val_acc: 0.5414\n",
      "Epoch 13/25\n",
      "225/225 [==============================] - 5s 21ms/step - loss: 1.2141 - acc: 0.5375\n",
      "898/898 [==============================] - 69s 76ms/step - loss: 1.1655 - acc: 0.5540 - val_loss: 1.2141 - val_acc: 0.5375\n",
      "Epoch 14/25\n",
      "225/225 [==============================] - 5s 21ms/step - loss: 1.2149 - acc: 0.5435\n",
      "898/898 [==============================] - 71s 79ms/step - loss: 1.1521 - acc: 0.5622 - val_loss: 1.2149 - val_acc: 0.5435\n",
      "Epoch 15/25\n",
      "225/225 [==============================] - 5s 21ms/step - loss: 1.1874 - acc: 0.5510\n",
      "898/898 [==============================] - 72s 80ms/step - loss: 1.1396 - acc: 0.5693 - val_loss: 1.1874 - val_acc: 0.5510\n",
      "Epoch 16/25\n",
      "225/225 [==============================] - 5s 21ms/step - loss: 1.1659 - acc: 0.5655\n",
      "898/898 [==============================] - 69s 77ms/step - loss: 1.1288 - acc: 0.5681 - val_loss: 1.1659 - val_acc: 0.5655\n",
      "Epoch 17/25\n",
      "225/225 [==============================] - 5s 21ms/step - loss: 1.1703 - acc: 0.5691\n",
      "898/898 [==============================] - 72s 80ms/step - loss: 1.1174 - acc: 0.5752 - val_loss: 1.1703 - val_acc: 0.5691\n",
      "Epoch 18/25\n",
      "225/225 [==============================] - 5s 21ms/step - loss: 1.1679 - acc: 0.5588\n",
      "898/898 [==============================] - 74s 82ms/step - loss: 1.1132 - acc: 0.5765 - val_loss: 1.1679 - val_acc: 0.5588\n",
      "Epoch 19/25\n",
      "225/225 [==============================] - 5s 20ms/step - loss: 1.1606 - acc: 0.5560\n",
      "898/898 [==============================] - 66s 74ms/step - loss: 1.0977 - acc: 0.5801 - val_loss: 1.1606 - val_acc: 0.5560\n",
      "Epoch 20/25\n",
      "225/225 [==============================] - 5s 21ms/step - loss: 1.1634 - acc: 0.5671\n",
      "898/898 [==============================] - 71s 79ms/step - loss: 1.0979 - acc: 0.5838 - val_loss: 1.1634 - val_acc: 0.5671\n",
      "Epoch 21/25\n",
      "225/225 [==============================] - 6s 25ms/step - loss: 1.1401 - acc: 0.5726\n",
      "898/898 [==============================] - 71s 79ms/step - loss: 1.0829 - acc: 0.5903 - val_loss: 1.1401 - val_acc: 0.5726\n",
      "Epoch 22/25\n",
      "225/225 [==============================] - 5s 22ms/step - loss: 1.1942 - acc: 0.5607\n",
      "898/898 [==============================] - 73s 81ms/step - loss: 1.0747 - acc: 0.5915 - val_loss: 1.1942 - val_acc: 0.5607\n",
      "Epoch 23/25\n",
      "225/225 [==============================] - 5s 20ms/step - loss: 1.1524 - acc: 0.5660\n",
      "898/898 [==============================] - 69s 77ms/step - loss: 1.0721 - acc: 0.5933 - val_loss: 1.1524 - val_acc: 0.5660\n",
      "Epoch 24/25\n",
      "225/225 [==============================] - 5s 21ms/step - loss: 1.1599 - acc: 0.5694\n",
      "898/898 [==============================] - 68s 75ms/step - loss: 1.0712 - acc: 0.5918 - val_loss: 1.1599 - val_acc: 0.5694\n",
      "Epoch 25/25\n",
      "225/225 [==============================] - 5s 21ms/step - loss: 1.1596 - acc: 0.5635\n",
      "898/898 [==============================] - 66s 73ms/step - loss: 1.0590 - acc: 0.6003 - val_loss: 1.1596 - val_acc: 0.5635\n"
     ]
    },
    {
     "data": {
      "text/plain": [
       "<tensorflow.python.keras.callbacks.History at 0x1d9014094e0>"
      ]
     },
     "execution_count": 38,
     "metadata": {},
     "output_type": "execute_result"
    }
   ],
   "source": [
    "cnn.fit(x = training_set, validation_data = test_set, epochs = 25)"
   ]
  },
  {
   "cell_type": "markdown",
   "metadata": {
    "id": "U3PZasO0006Z"
   },
   "source": [
    "\n",
    "## Part 4 - Making a single prediction"
   ]
  },
  {
   "cell_type": "code",
   "execution_count": null,
   "metadata": {
    "id": "gsSiWEJY1BPB"
   },
   "outputs": [],
   "source": []
  },
  {
   "cell_type": "code",
   "execution_count": 39,
   "metadata": {
    "id": "ED9KB3I54c1i"
   },
   "outputs": [],
   "source": [
    "cnn.save('shreyas_scratch_model.h5')"
   ]
  },
  {
   "cell_type": "code",
   "execution_count": null,
   "metadata": {},
   "outputs": [],
   "source": []
  },
  {
   "cell_type": "code",
   "execution_count": null,
   "metadata": {},
   "outputs": [],
   "source": [
    "import numpy as np\n",
    "from keras.preprocessing import image\n",
    "test_image = image.load_img('dataset/single_prediction/1.jpg', target_size = (48, 48))\n",
    "test_image = image.img_to_array(test_image)\n",
    "test_image = np.expand_dims(test_image, axis = 0)\n",
    "result = cnn.predict(test_image)\n",
    "training_set.class_indices\n",
    "if result[0][0] == 1:\n",
    "  prediction = '11'\n",
    "elif result[0][1] == 2:\n",
    "  prediction = '22'\n",
    "elif result[0][2] == 3:\n",
    "  prediction = '33'\n",
    "elif result[0][3] == 4:\n",
    "  prediction = '44'\n",
    "elif result[0][4] == 5:\n",
    "  prediction = '55'\n",
    "elif result[0][5] == 6:\n",
    "  prediction = '66'\n",
    "else:\n",
    "  prediction = '77'"
   ]
  },
  {
   "cell_type": "code",
   "execution_count": null,
   "metadata": {},
   "outputs": [],
   "source": [
    "print(result)"
   ]
  },
  {
   "cell_type": "code",
   "execution_count": null,
   "metadata": {},
   "outputs": [],
   "source": [
    "max_value = max(result)"
   ]
  },
  {
   "cell_type": "code",
   "execution_count": null,
   "metadata": {},
   "outputs": [],
   "source": [
    "max_index_col = np.argmax(result, axis=1)"
   ]
  },
  {
   "cell_type": "code",
   "execution_count": null,
   "metadata": {},
   "outputs": [],
   "source": [
    "max_index_col\n"
   ]
  }
 ],
 "metadata": {
  "colab": {
   "collapsed_sections": [],
   "name": "Copy of convolutional_neural_network.ipynb",
   "provenance": [
    {
     "file_id": "1Y-a4g98w93GHswXLRLoiogvMYNPgzPE9",
     "timestamp": 1619263004549
    }
   ]
  },
  "kernelspec": {
   "display_name": "Python 3",
   "language": "python",
   "name": "python3"
  },
  "language_info": {
   "codemirror_mode": {
    "name": "ipython",
    "version": 3
   },
   "file_extension": ".py",
   "mimetype": "text/x-python",
   "name": "python",
   "nbconvert_exporter": "python",
   "pygments_lexer": "ipython3",
   "version": "3.8.8"
  }
 },
 "nbformat": 4,
 "nbformat_minor": 1
}
